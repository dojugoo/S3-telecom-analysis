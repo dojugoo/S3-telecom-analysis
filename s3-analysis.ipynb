{
 "cells": [
  {
   "cell_type": "code",
   "execution_count": 166,
   "metadata": {},
   "outputs": [],
   "source": [
    "from scipy import stats as st\n",
    "from matplotlib import pyplot as plt\n",
    "import math as mt\n",
    "import pandas as pd\n",
    "import numpy as np"
   ]
  },
  {
   "cell_type": "markdown",
   "metadata": {},
   "source": [
    "# Which one is a better plan?\n",
    "\n",
    "You work as an analyst for the telecom operator Megaline. The company offers its clients two prepaid plans, Surf and Ultimate. The commercial department wants to know which of the plans brings in more revenue in order to adjust the advertising budget.\n",
    "\n",
    "You are going to carry out a preliminary analysis of the plans based on a relatively small client selection. You'll have the data on 500 Megaline clients: who the clients are, where they're from, which plan they use, and the number of calls they made and text messages they sent in 2018. Your job is to analyze the clients' behavior and determine which prepaid plan brings in more revenue."
   ]
  },
  {
   "attachments": {},
   "cell_type": "markdown",
   "metadata": {},
   "source": [
    "Data is split among 4 main separate data sets.\n",
    "Users, Calls, Messages, Internet\n",
    "\n",
    "The main goal is to eventually evaluate and perform hypothesis testing on the average revenue from users with the different calling plans.\n",
    "\n",
    "In order to get to this point, the data has to be processed to calculate the revenue based from the individual users calling information, texts/messages sent, and data from internet used given the charges based on the calling and data plans. Because of the amount of the information provided, statistics on the user based on their calls, messages, and internet usage can be generated and described as well.\n",
    "\n",
    "First, what needs to be done is to process the data. Analyze the dataset to see what needs to be cleaned up, parsed, and processed to make subsequent analysis easier. Individual calls, messages, data usage can be grouped by user, and revenue can be determined based on this data. From there, further steps to process the data based on the question we want to probe with the data can be determined."
   ]
  },
  {
   "cell_type": "markdown",
   "metadata": {},
   "source": [
    "## Load data"
   ]
  },
  {
   "cell_type": "code",
   "execution_count": 167,
   "metadata": {},
   "outputs": [],
   "source": [
    "# Load the data files into different DataFrames\n",
    "plans = pd.read_csv('datasets/megaline_plans.csv')\n",
    "users = pd.read_csv('datasets/megaline_users.csv')\n",
    "calls = pd.read_csv('datasets/megaline_calls.csv')\n",
    "internet = pd.read_csv('datasets/megaline_internet.csv')\n",
    "messages = pd.read_csv('datasets/megaline_messages.csv')"
   ]
  },
  {
   "cell_type": "markdown",
   "metadata": {},
   "source": [
    "## Prepare the data"
   ]
  },
  {
   "cell_type": "markdown",
   "metadata": {},
   "source": [
    "## Plans"
   ]
  },
  {
   "cell_type": "code",
   "execution_count": 168,
   "metadata": {},
   "outputs": [
    {
     "name": "stdout",
     "output_type": "stream",
     "text": [
      "<class 'pandas.core.frame.DataFrame'>\n",
      "RangeIndex: 2 entries, 0 to 1\n",
      "Data columns (total 8 columns):\n",
      " #   Column                 Non-Null Count  Dtype  \n",
      "---  ------                 --------------  -----  \n",
      " 0   messages_included      2 non-null      int64  \n",
      " 1   mb_per_month_included  2 non-null      int64  \n",
      " 2   minutes_included       2 non-null      int64  \n",
      " 3   usd_monthly_pay        2 non-null      int64  \n",
      " 4   usd_per_gb             2 non-null      int64  \n",
      " 5   usd_per_message        2 non-null      float64\n",
      " 6   usd_per_minute         2 non-null      float64\n",
      " 7   plan_name              2 non-null      object \n",
      "dtypes: float64(2), int64(5), object(1)\n",
      "memory usage: 256.0+ bytes\n"
     ]
    }
   ],
   "source": [
    "# Print the general/summary information about the plans' DataFrame\n",
    "plans.info()"
   ]
  },
  {
   "cell_type": "code",
   "execution_count": 169,
   "metadata": {},
   "outputs": [
    {
     "data": {
      "text/html": [
       "<div>\n",
       "<style scoped>\n",
       "    .dataframe tbody tr th:only-of-type {\n",
       "        vertical-align: middle;\n",
       "    }\n",
       "\n",
       "    .dataframe tbody tr th {\n",
       "        vertical-align: top;\n",
       "    }\n",
       "\n",
       "    .dataframe thead th {\n",
       "        text-align: right;\n",
       "    }\n",
       "</style>\n",
       "<table border=\"1\" class=\"dataframe\">\n",
       "  <thead>\n",
       "    <tr style=\"text-align: right;\">\n",
       "      <th></th>\n",
       "      <th>messages_included</th>\n",
       "      <th>mb_per_month_included</th>\n",
       "      <th>minutes_included</th>\n",
       "      <th>usd_monthly_pay</th>\n",
       "      <th>usd_per_gb</th>\n",
       "      <th>usd_per_message</th>\n",
       "      <th>usd_per_minute</th>\n",
       "      <th>plan_name</th>\n",
       "    </tr>\n",
       "  </thead>\n",
       "  <tbody>\n",
       "    <tr>\n",
       "      <th>0</th>\n",
       "      <td>50</td>\n",
       "      <td>15360</td>\n",
       "      <td>500</td>\n",
       "      <td>20</td>\n",
       "      <td>10</td>\n",
       "      <td>0.03</td>\n",
       "      <td>0.03</td>\n",
       "      <td>surf</td>\n",
       "    </tr>\n",
       "    <tr>\n",
       "      <th>1</th>\n",
       "      <td>1000</td>\n",
       "      <td>30720</td>\n",
       "      <td>3000</td>\n",
       "      <td>70</td>\n",
       "      <td>7</td>\n",
       "      <td>0.01</td>\n",
       "      <td>0.01</td>\n",
       "      <td>ultimate</td>\n",
       "    </tr>\n",
       "  </tbody>\n",
       "</table>\n",
       "</div>"
      ],
      "text/plain": [
       "   messages_included  mb_per_month_included  minutes_included  \\\n",
       "0                 50                  15360               500   \n",
       "1               1000                  30720              3000   \n",
       "\n",
       "   usd_monthly_pay  usd_per_gb  usd_per_message  usd_per_minute plan_name  \n",
       "0               20          10             0.03            0.03      surf  \n",
       "1               70           7             0.01            0.01  ultimate  "
      ]
     },
     "metadata": {},
     "output_type": "display_data"
    }
   ],
   "source": [
    "# Print a sample of data for plans\n",
    "display(plans.head())"
   ]
  },
  {
   "cell_type": "markdown",
   "metadata": {},
   "source": [
    "Table presents overview of the differences between plans 'surf' and 'ultimate'. \n",
    "\n",
    "- `usd_monthly_fee` — monthly charge in US dollars\n",
    "- `minutes_included` — monthly minute allowance\n",
    "- `messages_included` — monthly text allowance\n",
    "- `mb_per_month_included` — data volume allowance (in megabytes)\n",
    "- `usd_per_minute` — price per minute after exceeding the package limits\n",
    "- `usd_per_message` — price per text after exceeding the package limits\n",
    "- `usd_per_gb` — price per extra gigabyte of data after exceeding the package limits (1 GB = 1024 megabytes)"
   ]
  },
  {
   "cell_type": "markdown",
   "metadata": {},
   "source": [
    "### Enrich data"
   ]
  },
  {
   "cell_type": "markdown",
   "metadata": {},
   "source": [
    "Since charges are determined by GBs, convert the mb_per_month_included to units of gb"
   ]
  },
  {
   "cell_type": "code",
   "execution_count": 170,
   "metadata": {},
   "outputs": [],
   "source": [
    "# Change mb_per_month_included to gb_per_month_included\n",
    "plans['gb_per_month_included'] = plans['mb_per_month_included'] / 1024"
   ]
  },
  {
   "cell_type": "markdown",
   "metadata": {},
   "source": [
    "## Users"
   ]
  },
  {
   "cell_type": "code",
   "execution_count": 171,
   "metadata": {},
   "outputs": [
    {
     "name": "stdout",
     "output_type": "stream",
     "text": [
      "<class 'pandas.core.frame.DataFrame'>\n",
      "RangeIndex: 500 entries, 0 to 499\n",
      "Data columns (total 8 columns):\n",
      " #   Column      Non-Null Count  Dtype \n",
      "---  ------      --------------  ----- \n",
      " 0   user_id     500 non-null    int64 \n",
      " 1   first_name  500 non-null    object\n",
      " 2   last_name   500 non-null    object\n",
      " 3   age         500 non-null    int64 \n",
      " 4   city        500 non-null    object\n",
      " 5   reg_date    500 non-null    object\n",
      " 6   plan        500 non-null    object\n",
      " 7   churn_date  34 non-null     object\n",
      "dtypes: int64(2), object(6)\n",
      "memory usage: 31.4+ KB\n"
     ]
    }
   ],
   "source": [
    "# Print the general/summary information about the users' DataFrame\n",
    "users.info()"
   ]
  },
  {
   "cell_type": "code",
   "execution_count": 172,
   "metadata": {},
   "outputs": [
    {
     "data": {
      "text/html": [
       "<div>\n",
       "<style scoped>\n",
       "    .dataframe tbody tr th:only-of-type {\n",
       "        vertical-align: middle;\n",
       "    }\n",
       "\n",
       "    .dataframe tbody tr th {\n",
       "        vertical-align: top;\n",
       "    }\n",
       "\n",
       "    .dataframe thead th {\n",
       "        text-align: right;\n",
       "    }\n",
       "</style>\n",
       "<table border=\"1\" class=\"dataframe\">\n",
       "  <thead>\n",
       "    <tr style=\"text-align: right;\">\n",
       "      <th></th>\n",
       "      <th>user_id</th>\n",
       "      <th>first_name</th>\n",
       "      <th>last_name</th>\n",
       "      <th>age</th>\n",
       "      <th>city</th>\n",
       "      <th>reg_date</th>\n",
       "      <th>plan</th>\n",
       "      <th>churn_date</th>\n",
       "    </tr>\n",
       "  </thead>\n",
       "  <tbody>\n",
       "    <tr>\n",
       "      <th>0</th>\n",
       "      <td>1000</td>\n",
       "      <td>Anamaria</td>\n",
       "      <td>Bauer</td>\n",
       "      <td>45</td>\n",
       "      <td>Atlanta-Sandy Springs-Roswell, GA MSA</td>\n",
       "      <td>2018-12-24</td>\n",
       "      <td>ultimate</td>\n",
       "      <td>NaN</td>\n",
       "    </tr>\n",
       "    <tr>\n",
       "      <th>1</th>\n",
       "      <td>1001</td>\n",
       "      <td>Mickey</td>\n",
       "      <td>Wilkerson</td>\n",
       "      <td>28</td>\n",
       "      <td>Seattle-Tacoma-Bellevue, WA MSA</td>\n",
       "      <td>2018-08-13</td>\n",
       "      <td>surf</td>\n",
       "      <td>NaN</td>\n",
       "    </tr>\n",
       "    <tr>\n",
       "      <th>2</th>\n",
       "      <td>1002</td>\n",
       "      <td>Carlee</td>\n",
       "      <td>Hoffman</td>\n",
       "      <td>36</td>\n",
       "      <td>Las Vegas-Henderson-Paradise, NV MSA</td>\n",
       "      <td>2018-10-21</td>\n",
       "      <td>surf</td>\n",
       "      <td>NaN</td>\n",
       "    </tr>\n",
       "    <tr>\n",
       "      <th>3</th>\n",
       "      <td>1003</td>\n",
       "      <td>Reynaldo</td>\n",
       "      <td>Jenkins</td>\n",
       "      <td>52</td>\n",
       "      <td>Tulsa, OK MSA</td>\n",
       "      <td>2018-01-28</td>\n",
       "      <td>surf</td>\n",
       "      <td>NaN</td>\n",
       "    </tr>\n",
       "    <tr>\n",
       "      <th>4</th>\n",
       "      <td>1004</td>\n",
       "      <td>Leonila</td>\n",
       "      <td>Thompson</td>\n",
       "      <td>40</td>\n",
       "      <td>Seattle-Tacoma-Bellevue, WA MSA</td>\n",
       "      <td>2018-05-23</td>\n",
       "      <td>surf</td>\n",
       "      <td>NaN</td>\n",
       "    </tr>\n",
       "  </tbody>\n",
       "</table>\n",
       "</div>"
      ],
      "text/plain": [
       "   user_id first_name  last_name  age                                   city  \\\n",
       "0     1000   Anamaria      Bauer   45  Atlanta-Sandy Springs-Roswell, GA MSA   \n",
       "1     1001     Mickey  Wilkerson   28        Seattle-Tacoma-Bellevue, WA MSA   \n",
       "2     1002     Carlee    Hoffman   36   Las Vegas-Henderson-Paradise, NV MSA   \n",
       "3     1003   Reynaldo    Jenkins   52                          Tulsa, OK MSA   \n",
       "4     1004    Leonila   Thompson   40        Seattle-Tacoma-Bellevue, WA MSA   \n",
       "\n",
       "     reg_date      plan churn_date  \n",
       "0  2018-12-24  ultimate        NaN  \n",
       "1  2018-08-13      surf        NaN  \n",
       "2  2018-10-21      surf        NaN  \n",
       "3  2018-01-28      surf        NaN  \n",
       "4  2018-05-23      surf        NaN  "
      ]
     },
     "metadata": {},
     "output_type": "display_data"
    }
   ],
   "source": [
    "# Print a sample of data for users\n",
    "display(users.head())"
   ]
  },
  {
   "cell_type": "code",
   "execution_count": 173,
   "metadata": {},
   "outputs": [
    {
     "name": "stdout",
     "output_type": "stream",
     "text": [
      "0\n",
      "0\n",
      "['ultimate' 'surf']\n"
     ]
    }
   ],
   "source": [
    "# Check for any fully duplicate rows\n",
    "print(users.duplicated().sum())\n",
    "\n",
    "# Check for duplicate user_id\n",
    "print(users['user_id'].duplicated().sum())\n",
    "\n",
    "# Check plan only contains the two specified plans\n",
    "print(users['plan'].unique())"
   ]
  },
  {
   "cell_type": "markdown",
   "metadata": {},
   "source": [
    "Overall impression of the users dataset\n",
    "- 500 entries\n",
    "- no issues with column names\n",
    "- need to convert `reg_date` to datetime format\n",
    "- other column dtypes look good\n",
    "- missing values in churn_date is not an issue"
   ]
  },
  {
   "cell_type": "markdown",
   "metadata": {},
   "source": [
    "### Fix Data"
   ]
  },
  {
   "cell_type": "code",
   "execution_count": 174,
   "metadata": {},
   "outputs": [],
   "source": [
    "# Convert reg_date to datetime format\n",
    "users['reg_date'] = pd.to_datetime(users['reg_date'], format='%Y-%m-%d')"
   ]
  },
  {
   "cell_type": "markdown",
   "metadata": {},
   "source": [
    "### Enrich data"
   ]
  },
  {
   "cell_type": "markdown",
   "metadata": {},
   "source": [
    "Add column data to flag if user is from NY-NJ or not"
   ]
  },
  {
   "cell_type": "code",
   "execution_count": 175,
   "metadata": {},
   "outputs": [],
   "source": [
    "# Function to determine if str contains NY-NJ\n",
    "def contains_nynj(value):\n",
    "    '''\n",
    "    Function that returns whether city contains NY-NJ\n",
    "    Returns 1 if NY-NJ is in string\n",
    "    Returns 0 otherwise\n",
    "    '''\n",
    "    if 'NY-NJ' in value:\n",
    "        return 1\n",
    "    else:\n",
    "        return 0"
   ]
  },
  {
   "cell_type": "code",
   "execution_count": 176,
   "metadata": {},
   "outputs": [],
   "source": [
    "# Pull NY-NJ from city column and adds column\n",
    "users['NYNJ'] = users['city'].apply(contains_nynj)"
   ]
  },
  {
   "cell_type": "markdown",
   "metadata": {},
   "source": [
    "## Calls"
   ]
  },
  {
   "cell_type": "code",
   "execution_count": 177,
   "metadata": {},
   "outputs": [
    {
     "name": "stdout",
     "output_type": "stream",
     "text": [
      "<class 'pandas.core.frame.DataFrame'>\n",
      "RangeIndex: 137735 entries, 0 to 137734\n",
      "Data columns (total 4 columns):\n",
      " #   Column     Non-Null Count   Dtype  \n",
      "---  ------     --------------   -----  \n",
      " 0   id         137735 non-null  object \n",
      " 1   user_id    137735 non-null  int64  \n",
      " 2   call_date  137735 non-null  object \n",
      " 3   duration   137735 non-null  float64\n",
      "dtypes: float64(1), int64(1), object(2)\n",
      "memory usage: 4.2+ MB\n"
     ]
    }
   ],
   "source": [
    "# Print the general/summary information about the calls' DataFrame\n",
    "calls.info()"
   ]
  },
  {
   "cell_type": "code",
   "execution_count": 178,
   "metadata": {},
   "outputs": [
    {
     "data": {
      "text/html": [
       "<div>\n",
       "<style scoped>\n",
       "    .dataframe tbody tr th:only-of-type {\n",
       "        vertical-align: middle;\n",
       "    }\n",
       "\n",
       "    .dataframe tbody tr th {\n",
       "        vertical-align: top;\n",
       "    }\n",
       "\n",
       "    .dataframe thead th {\n",
       "        text-align: right;\n",
       "    }\n",
       "</style>\n",
       "<table border=\"1\" class=\"dataframe\">\n",
       "  <thead>\n",
       "    <tr style=\"text-align: right;\">\n",
       "      <th></th>\n",
       "      <th>id</th>\n",
       "      <th>user_id</th>\n",
       "      <th>call_date</th>\n",
       "      <th>duration</th>\n",
       "    </tr>\n",
       "  </thead>\n",
       "  <tbody>\n",
       "    <tr>\n",
       "      <th>29402</th>\n",
       "      <td>1111_29</td>\n",
       "      <td>1111</td>\n",
       "      <td>2018-11-17</td>\n",
       "      <td>8.11</td>\n",
       "    </tr>\n",
       "    <tr>\n",
       "      <th>94856</th>\n",
       "      <td>1336_787</td>\n",
       "      <td>1336</td>\n",
       "      <td>2018-04-22</td>\n",
       "      <td>0.00</td>\n",
       "    </tr>\n",
       "    <tr>\n",
       "      <th>58034</th>\n",
       "      <td>1209_573</td>\n",
       "      <td>1209</td>\n",
       "      <td>2018-09-24</td>\n",
       "      <td>0.00</td>\n",
       "    </tr>\n",
       "    <tr>\n",
       "      <th>137647</th>\n",
       "      <td>1499_116</td>\n",
       "      <td>1499</td>\n",
       "      <td>2018-11-08</td>\n",
       "      <td>0.38</td>\n",
       "    </tr>\n",
       "    <tr>\n",
       "      <th>11271</th>\n",
       "      <td>1050_42</td>\n",
       "      <td>1050</td>\n",
       "      <td>2018-10-19</td>\n",
       "      <td>0.00</td>\n",
       "    </tr>\n",
       "  </tbody>\n",
       "</table>\n",
       "</div>"
      ],
      "text/plain": [
       "              id  user_id   call_date  duration\n",
       "29402    1111_29     1111  2018-11-17      8.11\n",
       "94856   1336_787     1336  2018-04-22      0.00\n",
       "58034   1209_573     1209  2018-09-24      0.00\n",
       "137647  1499_116     1499  2018-11-08      0.38\n",
       "11271    1050_42     1050  2018-10-19      0.00"
      ]
     },
     "execution_count": 178,
     "metadata": {},
     "output_type": "execute_result"
    }
   ],
   "source": [
    "# Print a sample of data for calls\n",
    "calls.sample(5)"
   ]
  },
  {
   "cell_type": "code",
   "execution_count": 179,
   "metadata": {},
   "outputs": [
    {
     "data": {
      "text/plain": [
       "0"
      ]
     },
     "execution_count": 179,
     "metadata": {},
     "output_type": "execute_result"
    }
   ],
   "source": [
    "# Check for any fully duplicate rows\n",
    "calls.duplicated().sum()"
   ]
  },
  {
   "cell_type": "markdown",
   "metadata": {},
   "source": [
    "- No missing values/data\n",
    "- No fully duplicated rows\n",
    "- Need to change `call_date` type to datetime\n",
    "- `duration` is in minutes"
   ]
  },
  {
   "cell_type": "markdown",
   "metadata": {},
   "source": [
    "### Fix data"
   ]
  },
  {
   "cell_type": "code",
   "execution_count": 180,
   "metadata": {},
   "outputs": [],
   "source": [
    "# Convert call_date to datetime format\n",
    "calls['call_date'] = pd.to_datetime(calls['call_date'], format='%Y-%m-%d')"
   ]
  },
  {
   "cell_type": "markdown",
   "metadata": {},
   "source": [
    "### Enrich data"
   ]
  },
  {
   "cell_type": "code",
   "execution_count": 181,
   "metadata": {},
   "outputs": [],
   "source": [
    "# Pull month of the call data to a new column\n",
    "calls['month'] = calls['call_date'].dt.month"
   ]
  },
  {
   "cell_type": "markdown",
   "metadata": {},
   "source": [
    "## Messages"
   ]
  },
  {
   "cell_type": "code",
   "execution_count": 182,
   "metadata": {},
   "outputs": [
    {
     "name": "stdout",
     "output_type": "stream",
     "text": [
      "<class 'pandas.core.frame.DataFrame'>\n",
      "RangeIndex: 76051 entries, 0 to 76050\n",
      "Data columns (total 3 columns):\n",
      " #   Column        Non-Null Count  Dtype \n",
      "---  ------        --------------  ----- \n",
      " 0   id            76051 non-null  object\n",
      " 1   user_id       76051 non-null  int64 \n",
      " 2   message_date  76051 non-null  object\n",
      "dtypes: int64(1), object(2)\n",
      "memory usage: 1.7+ MB\n"
     ]
    }
   ],
   "source": [
    "# Print the general/summary information about the messages' DataFrame\n",
    "messages.info()"
   ]
  },
  {
   "cell_type": "code",
   "execution_count": 183,
   "metadata": {},
   "outputs": [
    {
     "data": {
      "text/html": [
       "<div>\n",
       "<style scoped>\n",
       "    .dataframe tbody tr th:only-of-type {\n",
       "        vertical-align: middle;\n",
       "    }\n",
       "\n",
       "    .dataframe tbody tr th {\n",
       "        vertical-align: top;\n",
       "    }\n",
       "\n",
       "    .dataframe thead th {\n",
       "        text-align: right;\n",
       "    }\n",
       "</style>\n",
       "<table border=\"1\" class=\"dataframe\">\n",
       "  <thead>\n",
       "    <tr style=\"text-align: right;\">\n",
       "      <th></th>\n",
       "      <th>id</th>\n",
       "      <th>user_id</th>\n",
       "      <th>message_date</th>\n",
       "    </tr>\n",
       "  </thead>\n",
       "  <tbody>\n",
       "    <tr>\n",
       "      <th>66231</th>\n",
       "      <td>1433_171</td>\n",
       "      <td>1433</td>\n",
       "      <td>2018-11-20</td>\n",
       "    </tr>\n",
       "    <tr>\n",
       "      <th>51615</th>\n",
       "      <td>1335_205</td>\n",
       "      <td>1335</td>\n",
       "      <td>2018-11-04</td>\n",
       "    </tr>\n",
       "    <tr>\n",
       "      <th>4695</th>\n",
       "      <td>1044_52</td>\n",
       "      <td>1044</td>\n",
       "      <td>2018-10-08</td>\n",
       "    </tr>\n",
       "    <tr>\n",
       "      <th>48640</th>\n",
       "      <td>1326_177</td>\n",
       "      <td>1326</td>\n",
       "      <td>2018-09-25</td>\n",
       "    </tr>\n",
       "    <tr>\n",
       "      <th>19125</th>\n",
       "      <td>1124_12</td>\n",
       "      <td>1124</td>\n",
       "      <td>2018-12-27</td>\n",
       "    </tr>\n",
       "  </tbody>\n",
       "</table>\n",
       "</div>"
      ],
      "text/plain": [
       "             id  user_id message_date\n",
       "66231  1433_171     1433   2018-11-20\n",
       "51615  1335_205     1335   2018-11-04\n",
       "4695    1044_52     1044   2018-10-08\n",
       "48640  1326_177     1326   2018-09-25\n",
       "19125   1124_12     1124   2018-12-27"
      ]
     },
     "execution_count": 183,
     "metadata": {},
     "output_type": "execute_result"
    }
   ],
   "source": [
    "# Print a sample of data for messages\n",
    "messages.sample(5)"
   ]
  },
  {
   "cell_type": "code",
   "execution_count": 184,
   "metadata": {},
   "outputs": [
    {
     "data": {
      "text/plain": [
       "0"
      ]
     },
     "execution_count": 184,
     "metadata": {},
     "output_type": "execute_result"
    }
   ],
   "source": [
    "# Check for fully duplicated rows\n",
    "messages.duplicated().sum()"
   ]
  },
  {
   "cell_type": "markdown",
   "metadata": {},
   "source": [
    "- 76051 entries, no missing values\n",
    "- Need to convert `message_date` to datetime format\n",
    "- No fully duplicated rows"
   ]
  },
  {
   "cell_type": "markdown",
   "metadata": {},
   "source": [
    "### Fix data"
   ]
  },
  {
   "cell_type": "code",
   "execution_count": 185,
   "metadata": {},
   "outputs": [],
   "source": [
    "# Change message_date to datetime format\n",
    "messages['message_date'] = pd.to_datetime(messages['message_date'], format='%Y-%m-%d')"
   ]
  },
  {
   "cell_type": "markdown",
   "metadata": {},
   "source": [
    "### Enrich data"
   ]
  },
  {
   "cell_type": "code",
   "execution_count": 186,
   "metadata": {},
   "outputs": [],
   "source": [
    "# Add month column for message_date\n",
    "messages['month'] = messages['message_date'].dt.month"
   ]
  },
  {
   "cell_type": "markdown",
   "metadata": {},
   "source": [
    "## Internet"
   ]
  },
  {
   "cell_type": "code",
   "execution_count": 187,
   "metadata": {},
   "outputs": [
    {
     "name": "stdout",
     "output_type": "stream",
     "text": [
      "<class 'pandas.core.frame.DataFrame'>\n",
      "RangeIndex: 104825 entries, 0 to 104824\n",
      "Data columns (total 4 columns):\n",
      " #   Column        Non-Null Count   Dtype  \n",
      "---  ------        --------------   -----  \n",
      " 0   id            104825 non-null  object \n",
      " 1   user_id       104825 non-null  int64  \n",
      " 2   session_date  104825 non-null  object \n",
      " 3   mb_used       104825 non-null  float64\n",
      "dtypes: float64(1), int64(1), object(2)\n",
      "memory usage: 3.2+ MB\n"
     ]
    }
   ],
   "source": [
    "# Print the general/summary information about the internet DataFrame\n",
    "internet.info()"
   ]
  },
  {
   "cell_type": "code",
   "execution_count": 188,
   "metadata": {},
   "outputs": [
    {
     "data": {
      "text/html": [
       "<div>\n",
       "<style scoped>\n",
       "    .dataframe tbody tr th:only-of-type {\n",
       "        vertical-align: middle;\n",
       "    }\n",
       "\n",
       "    .dataframe tbody tr th {\n",
       "        vertical-align: top;\n",
       "    }\n",
       "\n",
       "    .dataframe thead th {\n",
       "        text-align: right;\n",
       "    }\n",
       "</style>\n",
       "<table border=\"1\" class=\"dataframe\">\n",
       "  <thead>\n",
       "    <tr style=\"text-align: right;\">\n",
       "      <th></th>\n",
       "      <th>id</th>\n",
       "      <th>user_id</th>\n",
       "      <th>session_date</th>\n",
       "      <th>mb_used</th>\n",
       "    </tr>\n",
       "  </thead>\n",
       "  <tbody>\n",
       "    <tr>\n",
       "      <th>21663</th>\n",
       "      <td>1099_417</td>\n",
       "      <td>1099</td>\n",
       "      <td>2018-06-08</td>\n",
       "      <td>0.00</td>\n",
       "    </tr>\n",
       "    <tr>\n",
       "      <th>101573</th>\n",
       "      <td>1486_112</td>\n",
       "      <td>1486</td>\n",
       "      <td>2018-12-16</td>\n",
       "      <td>0.00</td>\n",
       "    </tr>\n",
       "    <tr>\n",
       "      <th>91409</th>\n",
       "      <td>1421_30</td>\n",
       "      <td>1421</td>\n",
       "      <td>2018-10-31</td>\n",
       "      <td>437.09</td>\n",
       "    </tr>\n",
       "    <tr>\n",
       "      <th>21054</th>\n",
       "      <td>1098_80</td>\n",
       "      <td>1098</td>\n",
       "      <td>2018-12-11</td>\n",
       "      <td>545.95</td>\n",
       "    </tr>\n",
       "    <tr>\n",
       "      <th>72565</th>\n",
       "      <td>1337_49</td>\n",
       "      <td>1337</td>\n",
       "      <td>2018-11-11</td>\n",
       "      <td>0.00</td>\n",
       "    </tr>\n",
       "  </tbody>\n",
       "</table>\n",
       "</div>"
      ],
      "text/plain": [
       "              id  user_id session_date  mb_used\n",
       "21663   1099_417     1099   2018-06-08     0.00\n",
       "101573  1486_112     1486   2018-12-16     0.00\n",
       "91409    1421_30     1421   2018-10-31   437.09\n",
       "21054    1098_80     1098   2018-12-11   545.95\n",
       "72565    1337_49     1337   2018-11-11     0.00"
      ]
     },
     "execution_count": 188,
     "metadata": {},
     "output_type": "execute_result"
    }
   ],
   "source": [
    "# Print a sample of data for the internet traffic\n",
    "internet.sample(5)"
   ]
  },
  {
   "cell_type": "code",
   "execution_count": 189,
   "metadata": {},
   "outputs": [
    {
     "data": {
      "text/plain": [
       "0"
      ]
     },
     "execution_count": 189,
     "metadata": {},
     "output_type": "execute_result"
    }
   ],
   "source": [
    "# Check for fully duplicated rows\n",
    "internet.duplicated().sum()"
   ]
  },
  {
   "cell_type": "markdown",
   "metadata": {},
   "source": [
    "- 104825 entires, no missing values\n",
    "- No fully duplicated rows\n",
    "- Need to change session_date to datetime format"
   ]
  },
  {
   "cell_type": "markdown",
   "metadata": {},
   "source": [
    "### Fix data"
   ]
  },
  {
   "cell_type": "code",
   "execution_count": 190,
   "metadata": {},
   "outputs": [],
   "source": [
    "# Change session_date to datetime format\n",
    "internet['session_date'] = pd.to_datetime(internet['session_date'], format='%Y-%m-%d')"
   ]
  },
  {
   "cell_type": "markdown",
   "metadata": {},
   "source": [
    "### Enrich data"
   ]
  },
  {
   "cell_type": "markdown",
   "metadata": {},
   "source": [
    "From the internet data:\n",
    "- Pull out the month\n",
    "- Convert mb_used to gb_used"
   ]
  },
  {
   "cell_type": "code",
   "execution_count": 191,
   "metadata": {},
   "outputs": [],
   "source": [
    "# Add month column for session_date\n",
    "internet['month'] = internet['session_date'].dt.month\n",
    "\n",
    "# Convert mb_used to gb_used\n",
    "internet['gb_used'] = internet['mb_used'] / 1024"
   ]
  },
  {
   "cell_type": "code",
   "execution_count": 192,
   "metadata": {},
   "outputs": [],
   "source": [
    "# Function that rounds up to the nearest gb used\n",
    "def roundup(value):\n",
    "    return mt.ceil(value)"
   ]
  },
  {
   "cell_type": "markdown",
   "metadata": {},
   "source": [
    "## Study plan conditions"
   ]
  },
  {
   "cell_type": "code",
   "execution_count": 193,
   "metadata": {},
   "outputs": [
    {
     "data": {
      "text/html": [
       "<div>\n",
       "<style scoped>\n",
       "    .dataframe tbody tr th:only-of-type {\n",
       "        vertical-align: middle;\n",
       "    }\n",
       "\n",
       "    .dataframe tbody tr th {\n",
       "        vertical-align: top;\n",
       "    }\n",
       "\n",
       "    .dataframe thead th {\n",
       "        text-align: right;\n",
       "    }\n",
       "</style>\n",
       "<table border=\"1\" class=\"dataframe\">\n",
       "  <thead>\n",
       "    <tr style=\"text-align: right;\">\n",
       "      <th></th>\n",
       "      <th>messages_included</th>\n",
       "      <th>mb_per_month_included</th>\n",
       "      <th>minutes_included</th>\n",
       "      <th>usd_monthly_pay</th>\n",
       "      <th>usd_per_gb</th>\n",
       "      <th>usd_per_message</th>\n",
       "      <th>usd_per_minute</th>\n",
       "      <th>plan_name</th>\n",
       "      <th>gb_per_month_included</th>\n",
       "    </tr>\n",
       "  </thead>\n",
       "  <tbody>\n",
       "    <tr>\n",
       "      <th>0</th>\n",
       "      <td>50</td>\n",
       "      <td>15360</td>\n",
       "      <td>500</td>\n",
       "      <td>20</td>\n",
       "      <td>10</td>\n",
       "      <td>0.03</td>\n",
       "      <td>0.03</td>\n",
       "      <td>surf</td>\n",
       "      <td>15.0</td>\n",
       "    </tr>\n",
       "    <tr>\n",
       "      <th>1</th>\n",
       "      <td>1000</td>\n",
       "      <td>30720</td>\n",
       "      <td>3000</td>\n",
       "      <td>70</td>\n",
       "      <td>7</td>\n",
       "      <td>0.01</td>\n",
       "      <td>0.01</td>\n",
       "      <td>ultimate</td>\n",
       "      <td>30.0</td>\n",
       "    </tr>\n",
       "  </tbody>\n",
       "</table>\n",
       "</div>"
      ],
      "text/plain": [
       "   messages_included  mb_per_month_included  minutes_included  \\\n",
       "0                 50                  15360               500   \n",
       "1               1000                  30720              3000   \n",
       "\n",
       "   usd_monthly_pay  usd_per_gb  usd_per_message  usd_per_minute plan_name  \\\n",
       "0               20          10             0.03            0.03      surf   \n",
       "1               70           7             0.01            0.01  ultimate   \n",
       "\n",
       "   gb_per_month_included  \n",
       "0                   15.0  \n",
       "1                   30.0  "
      ]
     },
     "execution_count": 193,
     "metadata": {},
     "output_type": "execute_result"
    }
   ],
   "source": [
    "# Print out the plan conditions and make sure they are clear for you\n",
    "plans.head()"
   ]
  },
  {
   "cell_type": "markdown",
   "metadata": {},
   "source": [
    "## Aggregate data per user"
   ]
  },
  {
   "cell_type": "code",
   "execution_count": 194,
   "metadata": {},
   "outputs": [
    {
     "name": "stdout",
     "output_type": "stream",
     "text": [
      "      user_id  month  duration\n",
      "0        1000     12     117.0\n",
      "1        1001      8     172.0\n",
      "2        1001      9     298.0\n",
      "3        1001     10     375.0\n",
      "4        1001     11     405.0\n",
      "...       ...    ...       ...\n",
      "2253     1498     12     325.0\n",
      "2254     1499      9     331.0\n",
      "2255     1499     10     364.0\n",
      "2256     1499     11     289.0\n",
      "2257     1499     12     469.0\n",
      "\n",
      "[2258 rows x 3 columns]\n",
      "      user_id  month  duration\n",
      "0        1000     12     117.0\n",
      "1        1001      8     172.0\n",
      "2        1001      9     298.0\n",
      "3        1001     10     375.0\n",
      "4        1001     11     405.0\n",
      "...       ...    ...       ...\n",
      "2253     1498     12     325.0\n",
      "2254     1499      9     331.0\n",
      "2255     1499     10     364.0\n",
      "2256     1499     11     289.0\n",
      "2257     1499     12     469.0\n",
      "\n",
      "[2258 rows x 3 columns]\n"
     ]
    },
    {
     "data": {
      "text/plain": [
       "True"
      ]
     },
     "execution_count": 194,
     "metadata": {},
     "output_type": "execute_result"
    }
   ],
   "source": [
    "# Using pivot table to sum up the total minutes per user_id\n",
    "pivot_calls = np.ceil(pd.pivot_table(calls, index=['user_id', 'month'], values='duration', aggfunc='sum')).reset_index()\n",
    "\n",
    "print(pivot_calls)\n",
    "\n",
    "# Using groupby to sum up the total minutes per user_id\n",
    "groupby_calls = np.ceil(calls.groupby(['user_id', 'month']).agg(duration = ('duration', 'sum'))).reset_index()\n",
    "print(groupby_calls)\n",
    "\n",
    "# Check if both arrays are equal\n",
    "np.array_equal(pivot_calls, groupby_calls)"
   ]
  },
  {
   "cell_type": "code",
   "execution_count": 195,
   "metadata": {},
   "outputs": [
    {
     "name": "stdout",
     "output_type": "stream",
     "text": [
      "      user_id  month  id\n",
      "0        1000     12  11\n",
      "1        1001      8  30\n",
      "2        1001      9  44\n",
      "3        1001     10  53\n",
      "4        1001     11  36\n",
      "...       ...    ...  ..\n",
      "1801     1496      9  21\n",
      "1802     1496     10  18\n",
      "1803     1496     11  13\n",
      "1804     1496     12  11\n",
      "1805     1497     12  50\n",
      "\n",
      "[1806 rows x 3 columns]\n",
      "      user_id  month  id\n",
      "0        1000     12  11\n",
      "1        1001      8  30\n",
      "2        1001      9  44\n",
      "3        1001     10  53\n",
      "4        1001     11  36\n",
      "...       ...    ...  ..\n",
      "1801     1496      9  21\n",
      "1802     1496     10  18\n",
      "1803     1496     11  13\n",
      "1804     1496     12  11\n",
      "1805     1497     12  50\n",
      "\n",
      "[1806 rows x 3 columns]\n"
     ]
    },
    {
     "data": {
      "text/plain": [
       "True"
      ]
     },
     "execution_count": 195,
     "metadata": {},
     "output_type": "execute_result"
    }
   ],
   "source": [
    "# Using pivot table to count the total messages sent per user_id\n",
    "pivot_msgs = pd.pivot_table(messages, index=['user_id', 'month'], values='id', aggfunc='count').reset_index()\n",
    "\n",
    "print(pivot_msgs)\n",
    "\n",
    "# Using groupby to count the total messages sent per user_id\n",
    "groupby_msgs = messages.groupby(['user_id', 'month']).agg(id = ('id', 'count')).reset_index()\n",
    "print(groupby_msgs)\n",
    "\n",
    "# Check if both arrays are equal\n",
    "np.array_equal(pivot_msgs, groupby_msgs)"
   ]
  },
  {
   "cell_type": "code",
   "execution_count": 196,
   "metadata": {},
   "outputs": [
    {
     "name": "stdout",
     "output_type": "stream",
     "text": [
      "      user_id  month  gb_used\n",
      "0        1000     12      2.0\n",
      "1        1001      8      7.0\n",
      "2        1001      9     14.0\n",
      "3        1001     10     22.0\n",
      "4        1001     11     19.0\n",
      "...       ...    ...      ...\n",
      "2272     1498     12     23.0\n",
      "2273     1499      9     13.0\n",
      "2274     1499     10     20.0\n",
      "2275     1499     11     17.0\n",
      "2276     1499     12     22.0\n",
      "\n",
      "[2277 rows x 3 columns]\n",
      "      user_id  month   gbs\n",
      "0        1000     12   2.0\n",
      "1        1001      8   7.0\n",
      "2        1001      9  14.0\n",
      "3        1001     10  22.0\n",
      "4        1001     11  19.0\n",
      "...       ...    ...   ...\n",
      "2272     1498     12  23.0\n",
      "2273     1499      9  13.0\n",
      "2274     1499     10  20.0\n",
      "2275     1499     11  17.0\n",
      "2276     1499     12  22.0\n",
      "\n",
      "[2277 rows x 3 columns]\n"
     ]
    },
    {
     "data": {
      "text/plain": [
       "True"
      ]
     },
     "execution_count": 196,
     "metadata": {},
     "output_type": "execute_result"
    }
   ],
   "source": [
    "# Using pivot table to count the total data used per month\n",
    "pivot_internet = np.ceil(pd.pivot_table(internet, index=['user_id', 'month'], values='gb_used', aggfunc='sum')).reset_index()\n",
    "print(pivot_internet)\n",
    "\n",
    "# Using groupby to sum the total data used per month\n",
    "groupby_internet = np.ceil(internet.groupby(['user_id', 'month']).agg(gbs = ('gb_used', 'sum'))).reset_index()\n",
    "print(groupby_internet)\n",
    "\n",
    "# Check if both arrays are equal\n",
    "np.array_equal(pivot_internet, groupby_internet)"
   ]
  },
  {
   "cell_type": "code",
   "execution_count": 197,
   "metadata": {},
   "outputs": [],
   "source": [
    "# Merging calls and messages\n",
    "merge1 = pivot_calls.merge(pivot_msgs, on=['user_id', 'month'], how='outer')\n",
    "\n",
    "# Merging calls/messages and gbs used\n",
    "merge2 = merge1.merge(pivot_internet, on=['user_id', 'month'], how='outer').fillna(0)\n",
    "\n",
    "# Merging users with calls/messages/gbs\n",
    "merge3 = merge2.merge(users, on='user_id', how='left')\n",
    "\n",
    "# Merging plans\n",
    "merge4 = merge3.merge(plans, left_on='plan', right_on='plan_name', how='left')"
   ]
  },
  {
   "cell_type": "code",
   "execution_count": 198,
   "metadata": {},
   "outputs": [],
   "source": [
    "# Calculate revenue per user per month\n",
    "def rev_user(row):\n",
    "    mins_over_limit = row['duration'] - row['minutes_included']\n",
    "    if mins_over_limit < 0:\n",
    "        mins_over_limit = 0\n",
    "\n",
    "    msgs_over_limit = row['id'] - row['messages_included']\n",
    "    if msgs_over_limit < 0:\n",
    "        msgs_over_limit = 0\n",
    "    \n",
    "    gbs_over_limit = row['gb_used'] - row['gb_per_month_included']\n",
    "    if gbs_over_limit < 0:\n",
    "        gbs_over_limit = 0\n",
    "        \n",
    "    total = row['usd_monthly_pay'] + (row['usd_per_gb']*gbs_over_limit) + (row['usd_per_message']*msgs_over_limit) + (row['usd_per_minute']*mins_over_limit)\n",
    "    return total"
   ]
  },
  {
   "cell_type": "code",
   "execution_count": 199,
   "metadata": {},
   "outputs": [],
   "source": [
    "# Apply revenue\n",
    "merge4['revenue'] = merge4.apply(rev_user, axis=1)"
   ]
  },
  {
   "cell_type": "code",
   "execution_count": 200,
   "metadata": {},
   "outputs": [
    {
     "name": "stdout",
     "output_type": "stream",
     "text": [
      "      user_id  month  duration    id  gb_used  first_name  last_name  age  \\\n",
      "0        1000     12     117.0  11.0      2.0    Anamaria      Bauer   45   \n",
      "1        1001      8     172.0  30.0      7.0      Mickey  Wilkerson   28   \n",
      "2        1001      9     298.0  44.0     14.0      Mickey  Wilkerson   28   \n",
      "3        1001     10     375.0  53.0     22.0      Mickey  Wilkerson   28   \n",
      "4        1001     11     405.0  36.0     19.0      Mickey  Wilkerson   28   \n",
      "...       ...    ...       ...   ...      ...         ...        ...  ...   \n",
      "2288     1349     12       0.0  61.0     13.0  Florentina       Diaz   69   \n",
      "2289     1361      5       0.0   2.0      2.0     Jacelyn    Hoffman   45   \n",
      "2290     1482     10       0.0   2.0      0.0      Armand      Glenn   70   \n",
      "2291     1108     12       0.0   0.0      1.0    Porfirio       Kane   45   \n",
      "2292     1311      6       0.0   0.0      2.0     Cherlyn   Saunders   69   \n",
      "\n",
      "                                           city   reg_date  ...  \\\n",
      "0         Atlanta-Sandy Springs-Roswell, GA MSA 2018-12-24  ...   \n",
      "1               Seattle-Tacoma-Bellevue, WA MSA 2018-08-13  ...   \n",
      "2               Seattle-Tacoma-Bellevue, WA MSA 2018-08-13  ...   \n",
      "3               Seattle-Tacoma-Bellevue, WA MSA 2018-08-13  ...   \n",
      "4               Seattle-Tacoma-Bellevue, WA MSA 2018-08-13  ...   \n",
      "...                                         ...        ...  ...   \n",
      "2288         Boston-Cambridge-Newton, MA-NH MSA 2018-10-01  ...   \n",
      "2289                  Birmingham-Hoover, AL MSA 2018-04-14  ...   \n",
      "2290  New York-Newark-Jersey City, NY-NJ-PA MSA 2018-01-01  ...   \n",
      "2291                     Salt Lake City, UT MSA 2018-12-30  ...   \n",
      "2292                      Memphis, TN-MS-AR MSA 2018-06-27  ...   \n",
      "\n",
      "     messages_included mb_per_month_included  minutes_included  \\\n",
      "0                 1000                 30720              3000   \n",
      "1                   50                 15360               500   \n",
      "2                   50                 15360               500   \n",
      "3                   50                 15360               500   \n",
      "4                   50                 15360               500   \n",
      "...                ...                   ...               ...   \n",
      "2288                50                 15360               500   \n",
      "2289                50                 15360               500   \n",
      "2290              1000                 30720              3000   \n",
      "2291              1000                 30720              3000   \n",
      "2292              1000                 30720              3000   \n",
      "\n",
      "      usd_monthly_pay  usd_per_gb  usd_per_message  usd_per_minute  plan_name  \\\n",
      "0                  70           7             0.01            0.01   ultimate   \n",
      "1                  20          10             0.03            0.03       surf   \n",
      "2                  20          10             0.03            0.03       surf   \n",
      "3                  20          10             0.03            0.03       surf   \n",
      "4                  20          10             0.03            0.03       surf   \n",
      "...               ...         ...              ...             ...        ...   \n",
      "2288               20          10             0.03            0.03       surf   \n",
      "2289               20          10             0.03            0.03       surf   \n",
      "2290               70           7             0.01            0.01   ultimate   \n",
      "2291               70           7             0.01            0.01   ultimate   \n",
      "2292               70           7             0.01            0.01   ultimate   \n",
      "\n",
      "      gb_per_month_included  revenue  \n",
      "0                      30.0    70.00  \n",
      "1                      15.0    20.00  \n",
      "2                      15.0    20.00  \n",
      "3                      15.0    90.09  \n",
      "4                      15.0    60.00  \n",
      "...                     ...      ...  \n",
      "2288                   15.0    20.33  \n",
      "2289                   15.0    20.00  \n",
      "2290                   30.0    70.00  \n",
      "2291                   30.0    70.00  \n",
      "2292                   30.0    70.00  \n",
      "\n",
      "[2293 rows x 23 columns]\n"
     ]
    }
   ],
   "source": [
    "print(merge4)"
   ]
  },
  {
   "cell_type": "code",
   "execution_count": 201,
   "metadata": {},
   "outputs": [],
   "source": [
    "# Calculate the number of calls made by each user per month. Save the result.\n",
    "calls_mon_user = calls.groupby(['user_id', 'month']).agg(calls_month = ('id', 'count'))\n",
    "\n",
    "# Calculate the amount of minutes spent by each user per month. Save the result.\n",
    "callmins_mon_user = calls.groupby(['user_id', 'month']).agg(min_month = ('duration', 'sum'))\n",
    "\n",
    "# Calculate the number of messages sent by each user per month. Save the result.\n",
    "msg_mon_user = messages.groupby(['user_id', 'month']).agg(number_of_msgs = ('id', 'count'))\n",
    "\n",
    "# Calculate the volume of internet traffic used by each user per month. Save the result.\n",
    "gb_mon_user = internet.groupby(['user_id', 'month']).agg(gb_month = ('gb_used', 'sum'))\n",
    "\n",
    "# Rounding up to the nearest gb used per month\n",
    "gb_mon_user['gb_month'] = gb_mon_user['gb_month'].apply(roundup)"
   ]
  },
  {
   "cell_type": "code",
   "execution_count": 202,
   "metadata": {},
   "outputs": [
    {
     "name": "stdout",
     "output_type": "stream",
     "text": [
      "<class 'pandas.core.frame.DataFrame'>\n",
      "MultiIndex: 2293 entries, (1000, 12) to (1311, 6)\n",
      "Data columns (total 4 columns):\n",
      " #   Column          Non-Null Count  Dtype  \n",
      "---  ------          --------------  -----  \n",
      " 0   calls_month     2258 non-null   float64\n",
      " 1   min_month       2258 non-null   float64\n",
      " 2   number_of_msgs  1806 non-null   float64\n",
      " 3   gb_month        2277 non-null   float64\n",
      "dtypes: float64(4)\n",
      "memory usage: 98.9 KB\n",
      "<class 'pandas.core.frame.DataFrame'>\n",
      "Int64Index: 2293 entries, 0 to 2292\n",
      "Data columns (total 23 columns):\n",
      " #   Column                 Non-Null Count  Dtype         \n",
      "---  ------                 --------------  -----         \n",
      " 0   user_id                2293 non-null   int64         \n",
      " 1   month                  2293 non-null   int64         \n",
      " 2   calls_month            2293 non-null   float64       \n",
      " 3   min_month              2293 non-null   float64       \n",
      " 4   number_of_msgs         2293 non-null   float64       \n",
      " 5   gb_month               2293 non-null   float64       \n",
      " 6   first_name             2293 non-null   object        \n",
      " 7   last_name              2293 non-null   object        \n",
      " 8   age                    2293 non-null   int64         \n",
      " 9   city                   2293 non-null   object        \n",
      " 10  reg_date               2293 non-null   datetime64[ns]\n",
      " 11  plan                   2293 non-null   object        \n",
      " 12  churn_date             158 non-null    object        \n",
      " 13  NYNJ                   2293 non-null   int64         \n",
      " 14  messages_included      2293 non-null   int64         \n",
      " 15  mb_per_month_included  2293 non-null   int64         \n",
      " 16  minutes_included       2293 non-null   int64         \n",
      " 17  usd_monthly_pay        2293 non-null   int64         \n",
      " 18  usd_per_gb             2293 non-null   int64         \n",
      " 19  usd_per_message        2293 non-null   float64       \n",
      " 20  usd_per_minute         2293 non-null   float64       \n",
      " 21  plan_name              2293 non-null   object        \n",
      " 22  gb_per_month_included  2293 non-null   float64       \n",
      "dtypes: datetime64[ns](1), float64(7), int64(9), object(6)\n",
      "memory usage: 429.9+ KB\n"
     ]
    },
    {
     "data": {
      "text/html": [
       "<div>\n",
       "<style scoped>\n",
       "    .dataframe tbody tr th:only-of-type {\n",
       "        vertical-align: middle;\n",
       "    }\n",
       "\n",
       "    .dataframe tbody tr th {\n",
       "        vertical-align: top;\n",
       "    }\n",
       "\n",
       "    .dataframe thead th {\n",
       "        text-align: right;\n",
       "    }\n",
       "</style>\n",
       "<table border=\"1\" class=\"dataframe\">\n",
       "  <thead>\n",
       "    <tr style=\"text-align: right;\">\n",
       "      <th></th>\n",
       "      <th>user_id</th>\n",
       "      <th>month</th>\n",
       "      <th>calls_month</th>\n",
       "      <th>min_month</th>\n",
       "      <th>number_of_msgs</th>\n",
       "      <th>gb_month</th>\n",
       "      <th>first_name</th>\n",
       "      <th>last_name</th>\n",
       "      <th>age</th>\n",
       "      <th>city</th>\n",
       "      <th>...</th>\n",
       "      <th>NYNJ</th>\n",
       "      <th>messages_included</th>\n",
       "      <th>mb_per_month_included</th>\n",
       "      <th>minutes_included</th>\n",
       "      <th>usd_monthly_pay</th>\n",
       "      <th>usd_per_gb</th>\n",
       "      <th>usd_per_message</th>\n",
       "      <th>usd_per_minute</th>\n",
       "      <th>plan_name</th>\n",
       "      <th>gb_per_month_included</th>\n",
       "    </tr>\n",
       "  </thead>\n",
       "  <tbody>\n",
       "    <tr>\n",
       "      <th>0</th>\n",
       "      <td>1000</td>\n",
       "      <td>12</td>\n",
       "      <td>16.0</td>\n",
       "      <td>116.83</td>\n",
       "      <td>11.0</td>\n",
       "      <td>2.0</td>\n",
       "      <td>Anamaria</td>\n",
       "      <td>Bauer</td>\n",
       "      <td>45</td>\n",
       "      <td>Atlanta-Sandy Springs-Roswell, GA MSA</td>\n",
       "      <td>...</td>\n",
       "      <td>0</td>\n",
       "      <td>1000</td>\n",
       "      <td>30720</td>\n",
       "      <td>3000</td>\n",
       "      <td>70</td>\n",
       "      <td>7</td>\n",
       "      <td>0.01</td>\n",
       "      <td>0.01</td>\n",
       "      <td>ultimate</td>\n",
       "      <td>30.0</td>\n",
       "    </tr>\n",
       "    <tr>\n",
       "      <th>1</th>\n",
       "      <td>1001</td>\n",
       "      <td>8</td>\n",
       "      <td>27.0</td>\n",
       "      <td>171.14</td>\n",
       "      <td>30.0</td>\n",
       "      <td>7.0</td>\n",
       "      <td>Mickey</td>\n",
       "      <td>Wilkerson</td>\n",
       "      <td>28</td>\n",
       "      <td>Seattle-Tacoma-Bellevue, WA MSA</td>\n",
       "      <td>...</td>\n",
       "      <td>0</td>\n",
       "      <td>50</td>\n",
       "      <td>15360</td>\n",
       "      <td>500</td>\n",
       "      <td>20</td>\n",
       "      <td>10</td>\n",
       "      <td>0.03</td>\n",
       "      <td>0.03</td>\n",
       "      <td>surf</td>\n",
       "      <td>15.0</td>\n",
       "    </tr>\n",
       "    <tr>\n",
       "      <th>2</th>\n",
       "      <td>1001</td>\n",
       "      <td>9</td>\n",
       "      <td>49.0</td>\n",
       "      <td>297.69</td>\n",
       "      <td>44.0</td>\n",
       "      <td>14.0</td>\n",
       "      <td>Mickey</td>\n",
       "      <td>Wilkerson</td>\n",
       "      <td>28</td>\n",
       "      <td>Seattle-Tacoma-Bellevue, WA MSA</td>\n",
       "      <td>...</td>\n",
       "      <td>0</td>\n",
       "      <td>50</td>\n",
       "      <td>15360</td>\n",
       "      <td>500</td>\n",
       "      <td>20</td>\n",
       "      <td>10</td>\n",
       "      <td>0.03</td>\n",
       "      <td>0.03</td>\n",
       "      <td>surf</td>\n",
       "      <td>15.0</td>\n",
       "    </tr>\n",
       "    <tr>\n",
       "      <th>3</th>\n",
       "      <td>1001</td>\n",
       "      <td>10</td>\n",
       "      <td>65.0</td>\n",
       "      <td>374.11</td>\n",
       "      <td>53.0</td>\n",
       "      <td>22.0</td>\n",
       "      <td>Mickey</td>\n",
       "      <td>Wilkerson</td>\n",
       "      <td>28</td>\n",
       "      <td>Seattle-Tacoma-Bellevue, WA MSA</td>\n",
       "      <td>...</td>\n",
       "      <td>0</td>\n",
       "      <td>50</td>\n",
       "      <td>15360</td>\n",
       "      <td>500</td>\n",
       "      <td>20</td>\n",
       "      <td>10</td>\n",
       "      <td>0.03</td>\n",
       "      <td>0.03</td>\n",
       "      <td>surf</td>\n",
       "      <td>15.0</td>\n",
       "    </tr>\n",
       "    <tr>\n",
       "      <th>4</th>\n",
       "      <td>1001</td>\n",
       "      <td>11</td>\n",
       "      <td>64.0</td>\n",
       "      <td>404.59</td>\n",
       "      <td>36.0</td>\n",
       "      <td>19.0</td>\n",
       "      <td>Mickey</td>\n",
       "      <td>Wilkerson</td>\n",
       "      <td>28</td>\n",
       "      <td>Seattle-Tacoma-Bellevue, WA MSA</td>\n",
       "      <td>...</td>\n",
       "      <td>0</td>\n",
       "      <td>50</td>\n",
       "      <td>15360</td>\n",
       "      <td>500</td>\n",
       "      <td>20</td>\n",
       "      <td>10</td>\n",
       "      <td>0.03</td>\n",
       "      <td>0.03</td>\n",
       "      <td>surf</td>\n",
       "      <td>15.0</td>\n",
       "    </tr>\n",
       "  </tbody>\n",
       "</table>\n",
       "<p>5 rows × 23 columns</p>\n",
       "</div>"
      ],
      "text/plain": [
       "   user_id  month  calls_month  min_month  number_of_msgs  gb_month  \\\n",
       "0     1000     12         16.0     116.83            11.0       2.0   \n",
       "1     1001      8         27.0     171.14            30.0       7.0   \n",
       "2     1001      9         49.0     297.69            44.0      14.0   \n",
       "3     1001     10         65.0     374.11            53.0      22.0   \n",
       "4     1001     11         64.0     404.59            36.0      19.0   \n",
       "\n",
       "  first_name  last_name  age                                   city  ... NYNJ  \\\n",
       "0   Anamaria      Bauer   45  Atlanta-Sandy Springs-Roswell, GA MSA  ...    0   \n",
       "1     Mickey  Wilkerson   28        Seattle-Tacoma-Bellevue, WA MSA  ...    0   \n",
       "2     Mickey  Wilkerson   28        Seattle-Tacoma-Bellevue, WA MSA  ...    0   \n",
       "3     Mickey  Wilkerson   28        Seattle-Tacoma-Bellevue, WA MSA  ...    0   \n",
       "4     Mickey  Wilkerson   28        Seattle-Tacoma-Bellevue, WA MSA  ...    0   \n",
       "\n",
       "  messages_included mb_per_month_included  minutes_included  usd_monthly_pay  \\\n",
       "0              1000                 30720              3000               70   \n",
       "1                50                 15360               500               20   \n",
       "2                50                 15360               500               20   \n",
       "3                50                 15360               500               20   \n",
       "4                50                 15360               500               20   \n",
       "\n",
       "   usd_per_gb  usd_per_message  usd_per_minute  plan_name  \\\n",
       "0           7             0.01            0.01   ultimate   \n",
       "1          10             0.03            0.03       surf   \n",
       "2          10             0.03            0.03       surf   \n",
       "3          10             0.03            0.03       surf   \n",
       "4          10             0.03            0.03       surf   \n",
       "\n",
       "   gb_per_month_included  \n",
       "0                   30.0  \n",
       "1                   15.0  \n",
       "2                   15.0  \n",
       "3                   15.0  \n",
       "4                   15.0  \n",
       "\n",
       "[5 rows x 23 columns]"
      ]
     },
     "execution_count": 202,
     "metadata": {},
     "output_type": "execute_result"
    }
   ],
   "source": [
    "# Merge the data for calls, minutes, messages, internet based on user_id and month\n",
    "merged_data = calls_mon_user.merge(callmins_mon_user, on=['user_id', 'month'], how='outer')\n",
    "merged_data = merged_data.merge(msg_mon_user, on=['user_id', 'month'], how='outer')\n",
    "merged_data = merged_data.merge(gb_mon_user, on=['user_id', 'month'], how='outer')\n",
    "\n",
    "merged_data.info()\n",
    "# Fill missing values with 0 and reset_index\n",
    "merged_data = merged_data.reset_index().fillna(0)\n",
    "\n",
    "# Add the plan information\n",
    "merged_users = merged_data.merge(users, on='user_id', how='left')\n",
    "\n",
    "merged_users_plans = merged_users.merge(plans, left_on='plan', right_on='plan_name', how='left')\n",
    "\n",
    "# Print information on the merged data set\n",
    "merged_users_plans.info()\n",
    "merged_users_plans.head()"
   ]
  },
  {
   "cell_type": "code",
   "execution_count": 203,
   "metadata": {},
   "outputs": [],
   "source": [
    "# Calculating messages used over the allocated amount per plan\n",
    "def msgs_over(row):\n",
    "    '''\n",
    "    Function that returns the number of messages over the plan limit to be charged\n",
    "    Returns 0 if user used less than the plan limit\n",
    "    Or returns the number of messages over the plan limit\n",
    "    '''\n",
    "    plan_limit = row['messages_included']\n",
    "    msg_used = row['number_of_msgs']\n",
    "    msgs_over_limit = msg_used - plan_limit\n",
    "    \n",
    "    if (msgs_over_limit < 0):\n",
    "        return 0\n",
    "    else:\n",
    "        return msgs_over_limit    \n",
    "        \n",
    "\n",
    " # Calculating data used over the allocated amount per plan\n",
    "def gbs_over(row):\n",
    "    '''\n",
    "    Function that returns the data used over the plan limit to be charged\n",
    "    Returns 0 if user used less than the plan limit\n",
    "    Or returns the number of gbs over the plan limit\n",
    "    '''\n",
    "    plan_limit = row['gb_per_month_included']\n",
    "    gb_used = row['gb_month']\n",
    "    gbs_over_limit = gb_used - plan_limit\n",
    "    \n",
    "    if (gbs_over_limit < 0):\n",
    "        return 0\n",
    "    else:\n",
    "        return gbs_over_limit \n",
    " \n",
    "\n",
    " # Calculating minutes used over the allocated amount per plan\n",
    "def mins_over(row):\n",
    "    '''\n",
    "    Function that returns the minutes used over the plan limit to be charged\n",
    "    Returns 0 if user used less than the plan limit\n",
    "    Or returns the number of minutes over the plan limit\n",
    "    '''\n",
    "    plan_limit = row['minutes_included']\n",
    "    mins_used = row['min_month']\n",
    "    mins_over_limit = mins_used - plan_limit\n",
    "    \n",
    "    if (mins_over_limit < 0):\n",
    "        return 0\n",
    "    else:\n",
    "        return mins_over_limit"
   ]
  },
  {
   "cell_type": "code",
   "execution_count": 204,
   "metadata": {},
   "outputs": [],
   "source": [
    " # Add column for messages over plan limit\n",
    "merged_users_plans['msgs_over'] = merged_users_plans.apply(msgs_over, axis=1)\n",
    "\n",
    "# Add column for gb over plan limit\n",
    "merged_users_plans['gb_over'] = merged_users_plans.apply(gbs_over, axis=1)\n",
    "\n",
    "# Add column for mins over plan limit\n",
    "merged_users_plans['min_over'] = merged_users_plans.apply(mins_over, axis=1)"
   ]
  },
  {
   "cell_type": "code",
   "execution_count": 205,
   "metadata": {},
   "outputs": [],
   "source": [
    " # Calculate monthly charge\n",
    "def monthly_charge(row):\n",
    "    # Function that calculates and returns the total monthly charge\n",
    "    base = row['usd_monthly_pay']\n",
    "    data = row['usd_per_gb'] * row['gb_over']\n",
    "    msg = row['usd_per_message'] * row['msgs_over']\n",
    "    minute = row['usd_per_minute'] * row['min_over']\n",
    "    sum = base + data + msg + minute\n",
    "    return sum "
   ]
  },
  {
   "cell_type": "code",
   "execution_count": 206,
   "metadata": {},
   "outputs": [
    {
     "name": "stdout",
     "output_type": "stream",
     "text": [
      "<class 'pandas.core.frame.DataFrame'>\n",
      "Int64Index: 2293 entries, 0 to 2292\n",
      "Data columns (total 27 columns):\n",
      " #   Column                 Non-Null Count  Dtype         \n",
      "---  ------                 --------------  -----         \n",
      " 0   user_id                2293 non-null   int64         \n",
      " 1   month                  2293 non-null   int64         \n",
      " 2   calls_month            2293 non-null   float64       \n",
      " 3   min_month              2293 non-null   float64       \n",
      " 4   number_of_msgs         2293 non-null   float64       \n",
      " 5   gb_month               2293 non-null   float64       \n",
      " 6   first_name             2293 non-null   object        \n",
      " 7   last_name              2293 non-null   object        \n",
      " 8   age                    2293 non-null   int64         \n",
      " 9   city                   2293 non-null   object        \n",
      " 10  reg_date               2293 non-null   datetime64[ns]\n",
      " 11  plan                   2293 non-null   object        \n",
      " 12  churn_date             158 non-null    object        \n",
      " 13  NYNJ                   2293 non-null   int64         \n",
      " 14  messages_included      2293 non-null   int64         \n",
      " 15  mb_per_month_included  2293 non-null   int64         \n",
      " 16  minutes_included       2293 non-null   int64         \n",
      " 17  usd_monthly_pay        2293 non-null   int64         \n",
      " 18  usd_per_gb             2293 non-null   int64         \n",
      " 19  usd_per_message        2293 non-null   float64       \n",
      " 20  usd_per_minute         2293 non-null   float64       \n",
      " 21  plan_name              2293 non-null   object        \n",
      " 22  gb_per_month_included  2293 non-null   float64       \n",
      " 23  msgs_over              2293 non-null   float64       \n",
      " 24  gb_over                2293 non-null   float64       \n",
      " 25  min_over               2293 non-null   float64       \n",
      " 26  charge_month           2293 non-null   float64       \n",
      "dtypes: datetime64[ns](1), float64(11), int64(9), object(6)\n",
      "memory usage: 501.6+ KB\n"
     ]
    },
    {
     "data": {
      "text/html": [
       "<div>\n",
       "<style scoped>\n",
       "    .dataframe tbody tr th:only-of-type {\n",
       "        vertical-align: middle;\n",
       "    }\n",
       "\n",
       "    .dataframe tbody tr th {\n",
       "        vertical-align: top;\n",
       "    }\n",
       "\n",
       "    .dataframe thead th {\n",
       "        text-align: right;\n",
       "    }\n",
       "</style>\n",
       "<table border=\"1\" class=\"dataframe\">\n",
       "  <thead>\n",
       "    <tr style=\"text-align: right;\">\n",
       "      <th></th>\n",
       "      <th>user_id</th>\n",
       "      <th>month</th>\n",
       "      <th>calls_month</th>\n",
       "      <th>min_month</th>\n",
       "      <th>number_of_msgs</th>\n",
       "      <th>gb_month</th>\n",
       "      <th>first_name</th>\n",
       "      <th>last_name</th>\n",
       "      <th>age</th>\n",
       "      <th>city</th>\n",
       "      <th>...</th>\n",
       "      <th>usd_monthly_pay</th>\n",
       "      <th>usd_per_gb</th>\n",
       "      <th>usd_per_message</th>\n",
       "      <th>usd_per_minute</th>\n",
       "      <th>plan_name</th>\n",
       "      <th>gb_per_month_included</th>\n",
       "      <th>msgs_over</th>\n",
       "      <th>gb_over</th>\n",
       "      <th>min_over</th>\n",
       "      <th>charge_month</th>\n",
       "    </tr>\n",
       "  </thead>\n",
       "  <tbody>\n",
       "    <tr>\n",
       "      <th>0</th>\n",
       "      <td>1000</td>\n",
       "      <td>12</td>\n",
       "      <td>16.0</td>\n",
       "      <td>116.83</td>\n",
       "      <td>11.0</td>\n",
       "      <td>2.0</td>\n",
       "      <td>Anamaria</td>\n",
       "      <td>Bauer</td>\n",
       "      <td>45</td>\n",
       "      <td>Atlanta-Sandy Springs-Roswell, GA MSA</td>\n",
       "      <td>...</td>\n",
       "      <td>70</td>\n",
       "      <td>7</td>\n",
       "      <td>0.01</td>\n",
       "      <td>0.01</td>\n",
       "      <td>ultimate</td>\n",
       "      <td>30.0</td>\n",
       "      <td>0.0</td>\n",
       "      <td>0.0</td>\n",
       "      <td>0.0</td>\n",
       "      <td>70.00</td>\n",
       "    </tr>\n",
       "    <tr>\n",
       "      <th>1</th>\n",
       "      <td>1001</td>\n",
       "      <td>8</td>\n",
       "      <td>27.0</td>\n",
       "      <td>171.14</td>\n",
       "      <td>30.0</td>\n",
       "      <td>7.0</td>\n",
       "      <td>Mickey</td>\n",
       "      <td>Wilkerson</td>\n",
       "      <td>28</td>\n",
       "      <td>Seattle-Tacoma-Bellevue, WA MSA</td>\n",
       "      <td>...</td>\n",
       "      <td>20</td>\n",
       "      <td>10</td>\n",
       "      <td>0.03</td>\n",
       "      <td>0.03</td>\n",
       "      <td>surf</td>\n",
       "      <td>15.0</td>\n",
       "      <td>0.0</td>\n",
       "      <td>0.0</td>\n",
       "      <td>0.0</td>\n",
       "      <td>20.00</td>\n",
       "    </tr>\n",
       "    <tr>\n",
       "      <th>2</th>\n",
       "      <td>1001</td>\n",
       "      <td>9</td>\n",
       "      <td>49.0</td>\n",
       "      <td>297.69</td>\n",
       "      <td>44.0</td>\n",
       "      <td>14.0</td>\n",
       "      <td>Mickey</td>\n",
       "      <td>Wilkerson</td>\n",
       "      <td>28</td>\n",
       "      <td>Seattle-Tacoma-Bellevue, WA MSA</td>\n",
       "      <td>...</td>\n",
       "      <td>20</td>\n",
       "      <td>10</td>\n",
       "      <td>0.03</td>\n",
       "      <td>0.03</td>\n",
       "      <td>surf</td>\n",
       "      <td>15.0</td>\n",
       "      <td>0.0</td>\n",
       "      <td>0.0</td>\n",
       "      <td>0.0</td>\n",
       "      <td>20.00</td>\n",
       "    </tr>\n",
       "    <tr>\n",
       "      <th>3</th>\n",
       "      <td>1001</td>\n",
       "      <td>10</td>\n",
       "      <td>65.0</td>\n",
       "      <td>374.11</td>\n",
       "      <td>53.0</td>\n",
       "      <td>22.0</td>\n",
       "      <td>Mickey</td>\n",
       "      <td>Wilkerson</td>\n",
       "      <td>28</td>\n",
       "      <td>Seattle-Tacoma-Bellevue, WA MSA</td>\n",
       "      <td>...</td>\n",
       "      <td>20</td>\n",
       "      <td>10</td>\n",
       "      <td>0.03</td>\n",
       "      <td>0.03</td>\n",
       "      <td>surf</td>\n",
       "      <td>15.0</td>\n",
       "      <td>3.0</td>\n",
       "      <td>7.0</td>\n",
       "      <td>0.0</td>\n",
       "      <td>90.09</td>\n",
       "    </tr>\n",
       "    <tr>\n",
       "      <th>4</th>\n",
       "      <td>1001</td>\n",
       "      <td>11</td>\n",
       "      <td>64.0</td>\n",
       "      <td>404.59</td>\n",
       "      <td>36.0</td>\n",
       "      <td>19.0</td>\n",
       "      <td>Mickey</td>\n",
       "      <td>Wilkerson</td>\n",
       "      <td>28</td>\n",
       "      <td>Seattle-Tacoma-Bellevue, WA MSA</td>\n",
       "      <td>...</td>\n",
       "      <td>20</td>\n",
       "      <td>10</td>\n",
       "      <td>0.03</td>\n",
       "      <td>0.03</td>\n",
       "      <td>surf</td>\n",
       "      <td>15.0</td>\n",
       "      <td>0.0</td>\n",
       "      <td>4.0</td>\n",
       "      <td>0.0</td>\n",
       "      <td>60.00</td>\n",
       "    </tr>\n",
       "  </tbody>\n",
       "</table>\n",
       "<p>5 rows × 27 columns</p>\n",
       "</div>"
      ],
      "text/plain": [
       "   user_id  month  calls_month  min_month  number_of_msgs  gb_month  \\\n",
       "0     1000     12         16.0     116.83            11.0       2.0   \n",
       "1     1001      8         27.0     171.14            30.0       7.0   \n",
       "2     1001      9         49.0     297.69            44.0      14.0   \n",
       "3     1001     10         65.0     374.11            53.0      22.0   \n",
       "4     1001     11         64.0     404.59            36.0      19.0   \n",
       "\n",
       "  first_name  last_name  age                                   city  ...  \\\n",
       "0   Anamaria      Bauer   45  Atlanta-Sandy Springs-Roswell, GA MSA  ...   \n",
       "1     Mickey  Wilkerson   28        Seattle-Tacoma-Bellevue, WA MSA  ...   \n",
       "2     Mickey  Wilkerson   28        Seattle-Tacoma-Bellevue, WA MSA  ...   \n",
       "3     Mickey  Wilkerson   28        Seattle-Tacoma-Bellevue, WA MSA  ...   \n",
       "4     Mickey  Wilkerson   28        Seattle-Tacoma-Bellevue, WA MSA  ...   \n",
       "\n",
       "  usd_monthly_pay usd_per_gb usd_per_message  usd_per_minute  plan_name  \\\n",
       "0              70          7            0.01            0.01   ultimate   \n",
       "1              20         10            0.03            0.03       surf   \n",
       "2              20         10            0.03            0.03       surf   \n",
       "3              20         10            0.03            0.03       surf   \n",
       "4              20         10            0.03            0.03       surf   \n",
       "\n",
       "   gb_per_month_included  msgs_over  gb_over  min_over  charge_month  \n",
       "0                   30.0        0.0      0.0       0.0         70.00  \n",
       "1                   15.0        0.0      0.0       0.0         20.00  \n",
       "2                   15.0        0.0      0.0       0.0         20.00  \n",
       "3                   15.0        3.0      7.0       0.0         90.09  \n",
       "4                   15.0        0.0      4.0       0.0         60.00  \n",
       "\n",
       "[5 rows x 27 columns]"
      ]
     },
     "execution_count": 206,
     "metadata": {},
     "output_type": "execute_result"
    }
   ],
   "source": [
    "# Add column for charge per month\n",
    "merged_users_plans['charge_month'] = merged_users_plans.apply(monthly_charge, axis=1)\n",
    " \n",
    "# Print out resulting info and sample rows\n",
    "merged_users_plans.info()\n",
    "merged_users_plans.head() "
   ]
  },
  {
   "cell_type": "markdown",
   "metadata": {},
   "source": [
    "Now we can calculate the monthly charge for each user"
   ]
  },
  {
   "cell_type": "code",
   "execution_count": 207,
   "metadata": {},
   "outputs": [
    {
     "name": "stdout",
     "output_type": "stream",
     "text": [
      "user_id  month\n",
      "1000     12        70.00\n",
      "1001     8         20.00\n",
      "         9         20.00\n",
      "         10        90.09\n",
      "         11        60.00\n",
      "                   ...  \n",
      "1498     12       100.00\n",
      "1499     9         20.00\n",
      "         10        70.00\n",
      "         11        40.00\n",
      "         12        90.00\n",
      "Name: charge_month, Length: 2293, dtype: float64\n"
     ]
    }
   ],
   "source": [
    "# Calculate the monthly revenue for each user\n",
    "monthly_revenue = merged_users_plans.groupby(['user_id','month'])['charge_month'].sum()\n",
    "\n",
    "print(monthly_revenue.round(2))"
   ]
  },
  {
   "cell_type": "markdown",
   "metadata": {},
   "source": [
    "## Study user behaviour"
   ]
  },
  {
   "cell_type": "markdown",
   "metadata": {},
   "source": [
    "### Calls"
   ]
  },
  {
   "cell_type": "code",
   "execution_count": 208,
   "metadata": {},
   "outputs": [],
   "source": [
    "# Filter by plans (surf)\n",
    "calls_plan_surf = merged_users_plans.query(\"plan == 'surf'\")\n",
    "# Filter by plans (ultimate)\n",
    "calls_plan_ultimate = merged_users_plans.query(\"plan == 'ultimate'\")"
   ]
  },
  {
   "cell_type": "code",
   "execution_count": 209,
   "metadata": {},
   "outputs": [
    {
     "name": "stdout",
     "output_type": "stream",
     "text": [
      "Call duration for the Surf plan: mean: 6.745134009024245, stdev: 0.11292140593226929.\n",
      "Call duration for the Ultimate plan: mean: 6.636680677937407, stdev: 0.15834655358568125.\n"
     ]
    },
    {
     "data": {
      "image/png": "[encoded data removed]",
      "text/plain": [
       "<Figure size 720x432 with 1 Axes>"
      ]
     },
     "metadata": {
      "needs_background": "light"
     },
     "output_type": "display_data"
    }
   ],
   "source": [
    "# Compare average duration of calls per each plan per each distinct month. Plot a bar plat to visualize it.\n",
    "\n",
    "# Surf plan\n",
    "# Calculate total call time per month\n",
    "calltime_surf = calls_plan_surf.groupby('month')['min_month'].sum()\n",
    "# Calculate total number of calls per month\n",
    "call_total_surf = calls_plan_surf.groupby('month')['calls_month'].sum()\n",
    "\n",
    "duration_surf = calltime_surf / call_total_surf\n",
    "print(f'Call duration for the Surf plan: mean: {np.mean(duration_surf)}, stdev: {np.std(duration_surf)}.')\n",
    "\n",
    "# Ultimate plan\n",
    "# Calculate total call time per month\n",
    "calltime_ultimate = calls_plan_ultimate.groupby('month')['min_month'].sum()\n",
    "# Calculate total number of calls per month\n",
    "call_total_ultimate = calls_plan_ultimate.groupby('month')['calls_month'].sum()\n",
    "\n",
    "duration_ultimate = calltime_ultimate / call_total_ultimate\n",
    "print(f'Call duration for the Ultimate plan: mean: {np.mean(duration_ultimate)}, stdev: {np.std(duration_ultimate)}.')\n",
    "\n",
    "# Plot as bar\n",
    "duration_surf.plot(kind='bar', alpha=0.5, color='red', rot=45, ylim=[0, 8], figsize=(10,6))\n",
    "duration_ultimate.plot(kind='bar', alpha=0.5, color='blue', rot=45)\n",
    "plt.xlabel('Month')\n",
    "plt.ylabel('Average Call Duration (min)')\n",
    "plt.legend(['Surf', 'Ultimate'])\n",
    "plt.title('Average Call Duration Per Plan Per Month')\n",
    "plt.show()"
   ]
  },
  {
   "cell_type": "markdown",
   "metadata": {},
   "source": [
    "What is being shown in the graph above is the average call duration (calculated from the total call minutes divided by the total number of calls) on a per month basis which is separated by the two different plans. Between the two plans, it is almost identical and also because the average call duration is close to one another, there does not appear to be any difference in behavior in terms of call duration between the different plans. This suggest that regardless of the plan that people have, they do not tend to talk longer or shorter depending on what they paid for."
   ]
  },
  {
   "cell_type": "code",
   "execution_count": 210,
   "metadata": {},
   "outputs": [
    {
     "name": "stdout",
     "output_type": "stream",
     "text": [
      "The mean call duration for the Surf plan is 6.745134009024245 and variance is 0.012751243917720341.\n",
      "The mean call duration for the Ultimate plan is 6.636680677937407 and variance is 0.02507363103246302.\n"
     ]
    }
   ],
   "source": [
    "# Calculate the mean and the variance of the monthly call duration\n",
    "# Surf plan\n",
    "dur_surf_mean = np.mean(duration_surf)\n",
    "dur_surf_var = np.var(duration_surf)\n",
    "print(f'The mean call duration for the Surf plan is {dur_surf_mean} and variance is {dur_surf_var}.')\n",
    "\n",
    "# Ultimate plan\n",
    "dur_ult_mean = np.mean(duration_ultimate)\n",
    "dur_ult_var = np.var(duration_ultimate)\n",
    "print(f'The mean call duration for the Ultimate plan is {dur_ult_mean} and variance is {dur_ult_var}.')"
   ]
  },
  {
   "cell_type": "code",
   "execution_count": 211,
   "metadata": {},
   "outputs": [
    {
     "data": {
      "image/png": "[encoded data removed]",
      "text/plain": [
       "<Figure size 432x288 with 1 Axes>"
      ]
     },
     "metadata": {
      "needs_background": "light"
     },
     "output_type": "display_data"
    }
   ],
   "source": [
    "# Plot a boxplot to visualize the distribution of the monthly call duration\n",
    "merge = duration_surf.reset_index().merge(duration_ultimate.reset_index(), on='month')\n",
    "merge = merge.set_index('month')\n",
    "\n",
    "merge = merge.rename(columns = {\n",
    "    '0_x': 'Surf',\n",
    "    '0_y': 'Ultimate'\n",
    "})\n",
    "\n",
    "merge.plot(kind='box', ylabel='Duration (min)', title='Distribution of Monthly Call Duration Per Plan')\n",
    "plt.show()"
   ]
  },
  {
   "cell_type": "code",
   "execution_count": 212,
   "metadata": {},
   "outputs": [
    {
     "data": {
      "image/png": "[encoded data removed]",
      "text/plain": [
       "<Figure size 432x288 with 1 Axes>"
      ]
     },
     "metadata": {
      "needs_background": "light"
     },
     "output_type": "display_data"
    }
   ],
   "source": [
    "# Compare the number of minutes users of each plan require each month. Plot a histogram.\n",
    "min_required_surf = calls_plan_surf.groupby(['user_id', 'month'])['min_month'].sum()\n",
    "min_required_ultimate = calls_plan_ultimate.groupby(['user_id', 'month'])['min_month'].sum()\n",
    "\n",
    "min_required_surf.hist(bins=12)\n",
    "min_required_ultimate.hist(bins=12)\n",
    "plt.xlabel('Minutes Used')\n",
    "plt.ylabel('Frequency')\n",
    "plt.legend(['Surf', 'Ultimate'])\n",
    "plt.title('Minutes Used Per Month Per Plan')\n",
    "plt.show()"
   ]
  },
  {
   "cell_type": "markdown",
   "metadata": {},
   "source": [
    "Above is a histogram showing the distribution between the two plans on the number of minutes each user is using per month. On a frequency standpoint, we do see that there are more people, at least in this data set, that are signed up for the surf plan. However, when looking at the shape of the curve and distribution of the values, the number of minutes used per month look similar between plans. Most people even in the Surf or Ultimate plans tend to use around 400 minutes per month. "
   ]
  },
  {
   "cell_type": "markdown",
   "metadata": {},
   "source": [
    "Overall conclusions on how users behave in terms of calling:\n",
    "\n",
    "My impressions are that there does not appear to be much or any at all shift in calling behavior in users depending on the plan. This shows in that the average call duration and the minutes used are not drastically different when comparing between the plans. This suggests that the calling behavior stays the same regardless of the plan that they have."
   ]
  },
  {
   "cell_type": "markdown",
   "metadata": {},
   "source": [
    "### Messages"
   ]
  },
  {
   "cell_type": "code",
   "execution_count": 213,
   "metadata": {},
   "outputs": [],
   "source": [
    "# Compare the number of messages users of each plan tend to send each month\n",
    "msgs_month_surf = calls_plan_surf.groupby('month')['number_of_msgs'].mean()\n",
    "msgs_month_ult = calls_plan_ultimate.groupby('month')['number_of_msgs'].mean()"
   ]
  },
  {
   "cell_type": "code",
   "execution_count": 214,
   "metadata": {},
   "outputs": [
    {
     "data": {
      "image/png": "[encoded data removed]",
      "text/plain": [
       "<Figure size 648x360 with 1 Axes>"
      ]
     },
     "metadata": {
      "needs_background": "light"
     },
     "output_type": "display_data"
    }
   ],
   "source": [
    "# Plot messages for each plan each month\n",
    "msgs_month_ult.plot(kind='bar', color='blue', alpha=1, rot=45, figsize=[9, 5])\n",
    "msgs_month_surf.plot(kind='bar', color='red', alpha=1, rot=45)\n",
    "plt.xlabel('Month')\n",
    "plt.ylabel('Average Messages Sent Per User')\n",
    "plt.title('Number of Messages Sent Per Plan Per Month')\n",
    "plt.legend(['Ultimate', 'Surf'])\n",
    "plt.show()"
   ]
  },
  {
   "cell_type": "code",
   "execution_count": 215,
   "metadata": {},
   "outputs": [
    {
     "name": "stdout",
     "output_type": "stream",
     "text": [
      "Messages sent/month per user on the Surf plan: mean: 32.408930792264144, variance: 959.2133180249753, stdev: 30.97116914204201\n",
      "Messages sent/month per user on the Ultimate plan: mean: 38.4715322009908, variance: 1077.2996431216473, stdev: 32.822243115327254\n"
     ]
    }
   ],
   "source": [
    "# Calcuating the mean messages sent per user_id per month\n",
    "msgs_surf = calls_plan_surf.groupby('user_id')['number_of_msgs'].mean()\n",
    "msgs_ult = calls_plan_ultimate.groupby('user_id')['number_of_msgs'].mean()\n",
    "\n",
    "print(f'Messages sent/month per user on the Surf plan: mean: {np.mean(msgs_surf)}, variance: {np.var(msgs_surf)}, stdev: {np.std(msgs_surf)}')\n",
    "print(f'Messages sent/month per user on the Ultimate plan: mean: {np.mean(msgs_ult)}, variance: {np.var(msgs_ult)}, stdev: {np.std(msgs_ult)}')"
   ]
  },
  {
   "cell_type": "markdown",
   "metadata": {},
   "source": [
    "There is a noticeable difference in the number of messages each user tend to send per month depending on the plan, but possibly not significant given the variance. For each month, it is higher with the Ultimate plan relative to the Surf plan. Since users are spending more on the Ultimate plan which has the higher number of messages allotment, it would make sense that users on this plan tend to send more messages."
   ]
  },
  {
   "cell_type": "markdown",
   "metadata": {},
   "source": [
    "### Internet"
   ]
  },
  {
   "cell_type": "code",
   "execution_count": 216,
   "metadata": {},
   "outputs": [],
   "source": [
    "# Compare the amount of internet traffic consumed by users per plan\n",
    "data_surf = calls_plan_surf.groupby('month')['gb_month'].mean()\n",
    "data_ult = calls_plan_ultimate.groupby('month')['gb_month'].mean()"
   ]
  },
  {
   "cell_type": "code",
   "execution_count": 217,
   "metadata": {},
   "outputs": [
    {
     "data": {
      "image/png": "[encoded data removed]",
      "text/plain": [
       "<Figure size 648x360 with 1 Axes>"
      ]
     },
     "metadata": {
      "needs_background": "light"
     },
     "output_type": "display_data"
    }
   ],
   "source": [
    "# Plot average data used per user per plan per month\n",
    "data_ult.plot(kind='bar', color='red', alpha=0.5, rot=45, figsize=[9,5])\n",
    "data_surf.plot(kind='bar', color='blue', alpha=0.5, rot=45)\n",
    "plt.xlabel('Month')\n",
    "plt.ylabel('GB Used')\n",
    "plt.title('Average Data Used Per User Per Month')\n",
    "plt.legend(['Ultimate', 'Surf'])\n",
    "plt.show()"
   ]
  },
  {
   "cell_type": "code",
   "execution_count": 218,
   "metadata": {},
   "outputs": [
    {
     "name": "stdout",
     "output_type": "stream",
     "text": [
      "GB used/month per user on the Surf plan: mean: 15.99696482196484, variance: 37.13372401382804, stdev: 6.093744662670733\n",
      "GB used/month per user on the Ultimate plan: mean: 16.154847152140135, variance: 33.22285989433508, stdev: 5.763927471293777\n"
     ]
    }
   ],
   "source": [
    "# Calcuating the mean gb_used per user_id per month\n",
    "gb_surf = calls_plan_surf.groupby('user_id')['gb_month'].mean()\n",
    "gb_ult = calls_plan_ultimate.groupby('user_id')['gb_month'].mean()\n",
    "\n",
    "print(f'GB used/month per user on the Surf plan: mean: {np.mean(gb_surf)}, variance: {np.var(gb_surf)}, stdev: {np.std(gb_surf)}')\n",
    "print(f'GB used/month per user on the Ultimate plan: mean: {np.mean(gb_ult)}, variance: {np.var(gb_ult)}, stdev: {np.std(gb_ult)}')"
   ]
  },
  {
   "cell_type": "code",
   "execution_count": 219,
   "metadata": {},
   "outputs": [
    {
     "data": {
      "image/png": "[encoded data removed]",
      "text/plain": [
       "<Figure size 432x288 with 1 Axes>"
      ]
     },
     "metadata": {
      "needs_background": "light"
     },
     "output_type": "display_data"
    }
   ],
   "source": [
    "# Histogram of data used per user per month\n",
    "gb_surf.hist(bins=12)\n",
    "gb_ult.hist(bins=12, alpha=0.9)\n",
    "plt.legend(['Surf', 'Ultimate'])\n",
    "plt.xlabel('GB Used')\n",
    "plt.ylabel('Frequency')\n",
    "plt.title('Distribution of GB Used Per Month')\n",
    "plt.show()"
   ]
  },
  {
   "cell_type": "markdown",
   "metadata": {},
   "source": [
    "My overall impressions is that there is no apparent differences in the amount of data used per user on the different plans. \n",
    "\n",
    "Comparing the averages in GB used/month per user between the Surf and Ultimate plan, the means are 16.0 and 16.15, respectively. Taking into account the variances as well, it suggests that the data usage is very similar. In addition, when looking at the histogram plot showing the data used per user, the distribution is similar, and the most frequent GB used per user is around 20 GB/user/month when looking at both plans.\n",
    "\n",
    "Looking at the breakdown of data usage per month (shown in the bar plot), data usage is fairly similar when comparing month 6 and onwards. People on the Ultimate plan seem to use more data on months 1 to 5 over the Surf plan."
   ]
  },
  {
   "cell_type": "markdown",
   "metadata": {},
   "source": [
    "## Revenue"
   ]
  },
  {
   "cell_type": "code",
   "execution_count": 220,
   "metadata": {},
   "outputs": [],
   "source": [
    "# Average revenue per user per month - Surf plan\n",
    "rev_mon_surf = calls_plan_surf.groupby('month')['charge_month'].mean()\n",
    "\n",
    "# Average revenue per user per month - Ultimate plan\n",
    "rev_mon_ult = calls_plan_ultimate.groupby('month')['charge_month'].mean()"
   ]
  },
  {
   "cell_type": "code",
   "execution_count": 221,
   "metadata": {},
   "outputs": [
    {
     "data": {
      "image/png": "[encoded data removed]",
      "text/plain": [
       "<Figure size 648x432 with 1 Axes>"
      ]
     },
     "metadata": {
      "needs_background": "light"
     },
     "output_type": "display_data"
    }
   ],
   "source": [
    "# Plot average revenue per use per month\n",
    "rev_mon_ult.plot(kind='bar', color='red', alpha=0.5, rot=45, figsize=[9,6])\n",
    "rev_mon_surf.plot(kind='bar', color='blue', alpha=0.5, rot=45)\n",
    "plt.xlabel('Month')\n",
    "plt.ylabel('Average Revenue')\n",
    "plt.title('Average Revenue Per User Per Month')\n",
    "plt.legend(['Ultimate', 'Surf'])\n",
    "plt.show()"
   ]
  },
  {
   "cell_type": "code",
   "execution_count": 222,
   "metadata": {},
   "outputs": [
    {
     "name": "stdout",
     "output_type": "stream",
     "text": [
      "Revenue/month per user on the Surf plan: mean: $57.837079988744165, variance: 1883.7454443406905, stdev: 43.40213640295476\n",
      "Revenue/month per user on the Ultimate plan: mean: $71.8232837933475, variance: 54.77601827622787, stdev: 7.401082236823738\n"
     ]
    }
   ],
   "source": [
    "# Calcuating the mean revenue per user_id per month\n",
    "rev_surf = calls_plan_surf.groupby('user_id')['charge_month'].mean()\n",
    "rev_ult = calls_plan_ultimate.groupby('user_id')['charge_month'].mean()\n",
    "\n",
    "print(f'Revenue/month per user on the Surf plan: mean: ${np.mean(rev_surf)}, variance: {np.var(rev_surf)}, stdev: {np.std(rev_surf)}')\n",
    "print(f'Revenue/month per user on the Ultimate plan: mean: ${np.mean(rev_ult)}, variance: {np.var(rev_ult)}, stdev: {np.std(rev_ult)}')"
   ]
  },
  {
   "cell_type": "code",
   "execution_count": 223,
   "metadata": {},
   "outputs": [
    {
     "data": {
      "image/png": "[encoded data removed]",
      "text/plain": [
       "<Figure size 432x288 with 1 Axes>"
      ]
     },
     "metadata": {
      "needs_background": "light"
     },
     "output_type": "display_data"
    }
   ],
   "source": [
    "# Histogram of Revenue per user per month\n",
    "rev_surf.hist(bins=12)\n",
    "rev_ult.hist(bins=8, alpha=0.9)\n",
    "plt.legend(['Surf', 'Ultimate'])\n",
    "plt.xlabel('Revenue/Month')\n",
    "plt.ylabel('Frequency')\n",
    "plt.title('Distribution of Revenue/Month Per User')\n",
    "plt.show()"
   ]
  },
  {
   "cell_type": "markdown",
   "metadata": {},
   "source": [
    "The average monthly revenue for people in the Surf plan is 57.84 with a high variance, compared to the Ultimate plan of 71.82 with a much lower variance. This is also shown in the histogram plot, where there's more spread in monthly revenue per user in the surf plan compared to the Ultimate plan. \n",
    "\n",
    "This indicates that people on the Ultimate plan tend to not overuse the allotted amount in their data plan, while people on the Surf plan tend to use more than the plan allows, leading to paying more over the base charge of the plan. This could mean that the data allowance on the Ultimate plan is too high, and thus less people are able to benefit as much with the increased limits on calling, messages, and data. On the other side, this could also mean that the limits on the Surf plan are low enough that many people tend to use past the limits and end up getting charged more. "
   ]
  },
  {
   "cell_type": "markdown",
   "metadata": {},
   "source": [
    "## Test statistical hypotheses"
   ]
  },
  {
   "cell_type": "markdown",
   "metadata": {},
   "source": [
    "H0 null hypothesis: average user revenue between plans are equal\n",
    "\n",
    "Alternative hypothesis: average user revenue of surf plan is different than the ultimate plate"
   ]
  },
  {
   "cell_type": "code",
   "execution_count": 224,
   "metadata": {},
   "outputs": [],
   "source": [
    "# Average user revenue for surf plan\n",
    "avg_user_rev_surf = calls_plan_surf.groupby('user_id')['charge_month'].mean()\n",
    "\n",
    "# Average user revenue for ultimate plan\n",
    "avg_user_rev_ult = calls_plan_ultimate.groupby('user_id')['charge_month'].mean()"
   ]
  },
  {
   "cell_type": "code",
   "execution_count": 225,
   "metadata": {},
   "outputs": [
    {
     "name": "stdout",
     "output_type": "stream",
     "text": [
      "p-value: 7.252198062616272e-05\n",
      "We reject the null hypothesis\n"
     ]
    }
   ],
   "source": [
    "# H0 null hypothesis: average user revenue between plans are equal\n",
    "# Alternative hypothesis: average user revenue of surf plan is different than the ultimate plate\n",
    "\n",
    "# Test the hypotheses\n",
    "alpha = 0.01 # significance level\n",
    "\n",
    "results = st.ttest_ind(avg_user_rev_surf, avg_user_rev_ult)\n",
    "\n",
    "print('p-value:', results.pvalue)\n",
    "\n",
    "if (results.pvalue < alpha):\n",
    "    print(\"We reject the null hypothesis\")\n",
    "else:\n",
    "    print(\"We can't reject the null hypothesis\")\n"
   ]
  },
  {
   "cell_type": "markdown",
   "metadata": {},
   "source": [
    "We can reject the null hypothesis that the average user revenue between the plans are equal to a significance of less than 0.01. We can say there is a significant difference between the average revenues between people on the Surf plan and the Ultimate plan."
   ]
  },
  {
   "cell_type": "markdown",
   "metadata": {},
   "source": [
    "H0 null hypothesis: average user revenue from users in the NY-NJ are the same as users from other regions\n",
    "\n",
    "Alternative hypothesis: average user revenue are different"
   ]
  },
  {
   "cell_type": "code",
   "execution_count": 226,
   "metadata": {},
   "outputs": [],
   "source": [
    "# Filter by NY-NJ\n",
    "merged_nynj = merged_users_plans.query(\"NYNJ == 1\")\n",
    "merged_not_nynj = merged_users_plans.query(\"NYNJ == 0\")"
   ]
  },
  {
   "cell_type": "code",
   "execution_count": 227,
   "metadata": {},
   "outputs": [],
   "source": [
    "# Calculate average revenue per user filtered by NYNJ\n",
    "avg_rev_nynj = merged_nynj.groupby('user_id')['charge_month'].mean()\n",
    "avg_rev_not_nynj = merged_not_nynj.groupby('user_id')['charge_month'].mean()"
   ]
  },
  {
   "cell_type": "code",
   "execution_count": 228,
   "metadata": {},
   "outputs": [
    {
     "name": "stdout",
     "output_type": "stream",
     "text": [
      "p-value: 0.4703112160530949\n",
      "We can't reject the null hypothesis\n"
     ]
    }
   ],
   "source": [
    "#H0 null hypothesis: average user revenue from users in the NY-NJ are the same as users from other regions\n",
    "#Alternative hypothesis: average user revenue are different\n",
    "\n",
    "# Test the hypotheses\n",
    "alpha = 0.05 # significance level\n",
    "\n",
    "results = st.ttest_ind(avg_rev_nynj, avg_rev_not_nynj)\n",
    "\n",
    "print('p-value:', results.pvalue)\n",
    "\n",
    "if (results.pvalue < alpha):\n",
    "    print(\"We reject the null hypothesis\")\n",
    "else:\n",
    "    print(\"We can't reject the null hypothesis\")"
   ]
  },
  {
   "cell_type": "markdown",
   "metadata": {},
   "source": [
    "We cannot reject the null hypothesis, and can say that with statistical significance that the average revenue from users in the NY-NJ area are the same as users from other regions."
   ]
  },
  {
   "cell_type": "markdown",
   "metadata": {},
   "source": [
    "## General conclusions\n",
    "\n",
    "Comparisons between the difference plans month to month by call duration, messages sent, and data used.\n",
    "\n",
    "<b>Call duration</b>\n",
    "- Surf plan: average call duration is 6.75, with standard deviation of 0.11.\n",
    "- Ultimate plan: average call duration is 6.64, with standard deviation of 0.16.\n",
    "\n",
    "<b>Messages sent</b>\n",
    "- Surf plan: average messages sent is 32.41, with standard deviation of 30.97.\n",
    "- Ultimate plan: average messages sent is 38.47, with standard deviation of 32.82\n",
    "\n",
    "<b>Data usage</b>\n",
    "- Surf plan: data (GBs) used average is 16.0, with standard deviation of 6.09\n",
    "- Ultimate plan: data (GBs) used average is 16.15, with standard deviation of 5.76\n",
    "\n",
    "<b>Revenue</b>\n",
    "- Surf plan: revenue/month average is 57.84, with standard deviation of 43.4\n",
    "- Ultimate plan: revenue/month average is 71.82, with standard deviation of 7.4\n",
    "\n",
    "Overall, general behavior of users in regard to data usage, number of calls and call duration, and messages sent appear to be identical when comparing between the different plans, Surf and Ultimate. Looking at the average values for call duration, messages sent, data used, the average is identical between the plans and within the standard deviation. This indicates that there is no behavioral differences of people's usage on the different plans.\n",
    "\n",
    "There is more revenue per user with people on the Ultimate plan, despite using similar amounts of data. People in the Surf plan tend to overuse their limits more in the plan, which leads to them paying more over the base compared to people on the Ultimate plan.\n",
    "\n",
    "Finally, there is no statistical significance that there is more revenue coming in from users in the NY-NJ region compared to the other regions."
   ]
  }
 ],
 "metadata": {
  "kernelspec": {
   "display_name": "Python 3.9.12 ('base')",
   "language": "python",
   "name": "python3"
  },
  "language_info": {
   "codemirror_mode": {
    "name": "ipython",
    "version": 3
   },
   "file_extension": ".py",
   "mimetype": "text/x-python",
   "name": "python",
   "nbconvert_exporter": "python",
   "pygments_lexer": "ipython3",
   "version": "3.9.12"
  },
  "orig_nbformat": 4,
  "vscode": {
   "interpreter": {
    "hash": "ad2bdc8ecc057115af97d19610ffacc2b4e99fae6737bb82f5d7fb13d2f2c186"
   }
  }
 },
 "nbformat": 4,
 "nbformat_minor": 2
}
